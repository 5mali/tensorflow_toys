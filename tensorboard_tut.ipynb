{
 "cells": [
  {
   "cell_type": "code",
   "execution_count": 1,
   "metadata": {},
   "outputs": [],
   "source": [
    "# https://www.datacamp.com/community/tutorials/tensorboard-tutorial"
   ]
  },
  {
   "cell_type": "code",
   "execution_count": 3,
   "metadata": {},
   "outputs": [],
   "source": [
    "from pandas_datareader import data\n",
    "import matplotlib.pyplot as plt\n",
    "import pandas as pd\n",
    "import datetime as dt\n",
    "import urllib.request, json\n",
    "import os\n",
    "import numpy as np\n",
    "import datetime\n",
    "# This code has been tested with TensorFlow 1.6\n",
    "import tensorflow as tf\n",
    "from tensorflow.examples.tutorials.mnist import input_data"
   ]
  },
  {
   "cell_type": "code",
   "execution_count": 4,
   "metadata": {},
   "outputs": [
    {
     "name": "stdout",
     "output_type": "stream",
     "text": [
      "The tensorboard extension is already loaded. To reload it, use:\n",
      "  %reload_ext tensorboard\n"
     ]
    },
    {
     "data": {
      "text/plain": [
       "Reusing TensorBoard on port 6007 (pid 4553), started 0:00:09 ago. (Use '!kill 4553' to kill it.)"
      ]
     },
     "metadata": {},
     "output_type": "display_data"
    },
    {
     "data": {
      "text/html": [
       "\n",
       "        <iframe\n",
       "            width=\"100%\"\n",
       "            height=\"800\"\n",
       "            src=\"http://localhost:6007\"\n",
       "            frameborder=\"0\"\n",
       "            allowfullscreen\n",
       "        ></iframe>\n",
       "        "
      ],
      "text/plain": [
       "<IPython.lib.display.IFrame at 0x7f6ffbffebe0>"
      ]
     },
     "metadata": {},
     "output_type": "display_data"
    }
   ],
   "source": [
    "%load_ext tensorboard\n",
    "%tensorboard --logdir summaries"
   ]
  },
  {
   "cell_type": "code",
   "execution_count": 5,
   "metadata": {},
   "outputs": [],
   "source": [
    "def accuracy(predictions,labels):\n",
    "    '''\n",
    "    Accuracy of a given set of predictions of size (N x n_classes) and\n",
    "    labels of size (N x n_classes)\n",
    "    '''\n",
    "    return np.sum(np.argmax(predictions,axis=1)==np.argmax(labels,axis=1))*100.0/labels.shape[0]"
   ]
  },
  {
   "cell_type": "code",
   "execution_count": 6,
   "metadata": {},
   "outputs": [],
   "source": [
    "batch_size = 100\n",
    "layer_ids = ['hidden1','hidden2','hidden3','hidden4','hidden5','out']\n",
    "layer_sizes = [784, 500, 400, 300, 200, 100, 10]\n",
    "\n",
    "tf.reset_default_graph()\n",
    "\n",
    "# Inputs and Labels\n",
    "train_inputs = tf.placeholder(tf.float32, shape=[batch_size, layer_sizes[0]], name='train_inputs')\n",
    "train_labels = tf.placeholder(tf.float32, shape=[batch_size, layer_sizes[-1]], name='train_labels')\n",
    "\n",
    "# Weight and Bias definitions\n",
    "for idx, lid in enumerate(layer_ids):\n",
    "\n",
    "    with tf.variable_scope(lid):\n",
    "        w = tf.get_variable('weights',\n",
    "                            shape=[layer_sizes[idx], layer_sizes[idx+1]],\n",
    "                            initializer=tf.truncated_normal_initializer(stddev=0.05))\n",
    "        \n",
    "        b = tf.get_variable('bias',\n",
    "                            shape= [layer_sizes[idx+1]],\n",
    "                            initializer=tf.random_uniform_initializer(-0.1,0.1))"
   ]
  },
  {
   "cell_type": "code",
   "execution_count": 7,
   "metadata": {},
   "outputs": [],
   "source": [
    "# Calculating Logits\n",
    "h = train_inputs\n",
    "for lid in layer_ids:\n",
    "    with tf.variable_scope(lid,reuse=True):\n",
    "        w, b = tf.get_variable('weights'), tf.get_variable('bias')\n",
    "        if lid != 'out':\n",
    "            h = tf.nn.relu(tf.matmul(h,w)+b,name=lid+'_output')\n",
    "        else:\n",
    "            h = tf.nn.xw_plus_b(h,w,b,name=lid+'_output')\n",
    "\n",
    "tf_predictions = tf.nn.softmax(h, name='predictions')\n",
    "\n",
    "# Calculating Loss\n",
    "tf_loss = tf.reduce_mean(tf.nn.softmax_cross_entropy_with_logits_v2(labels=train_labels, logits=h),name='loss')\n",
    "\n",
    "# Optimizer\n",
    "tf_learning_rate = tf.placeholder(tf.float32, shape=None, name='learning_rate')\n",
    "optimizer = tf.train.MomentumOptimizer(tf_learning_rate,\n",
    "                                       momentum=0.9)\n",
    "grads_and_vars = optimizer.compute_gradients(tf_loss)\n",
    "tf_loss_minimize = optimizer.minimize(tf_loss)"
   ]
  },
  {
   "cell_type": "code",
   "execution_count": 8,
   "metadata": {},
   "outputs": [],
   "source": [
    "# Name scope allows you to group various summaries together\n",
    "# Summaries having the same name_scope will be displayed on the same row\n",
    "with tf.name_scope('performance'):\n",
    "    # Summaries need to be displayed\n",
    "    # Whenever you need to record the loss, feed the mean loss to this placeholder\n",
    "    tf_loss_ph = tf.placeholder(tf.float32,shape=None,name='loss_summary')\n",
    "    # Create a scalar summary object for the loss so it can be displayed\n",
    "    tf_loss_summary = tf.summary.scalar('loss', tf_loss_ph)\n",
    "\n",
    "    # Whenever you need to record the loss, feed the mean test accuracy to this placeholder\n",
    "    tf_accuracy_ph = tf.placeholder(tf.float32,shape=None, name='accuracy_summary')\n",
    "    # Create a scalar summary object for the accuracy so it can be displayed\n",
    "    tf_accuracy_summary = tf.summary.scalar('accuracy', tf_accuracy_ph)\n",
    "\n",
    "# Gradient norm summary\n",
    "for g,v in grads_and_vars:\n",
    "    if 'hidden5' in v.name and 'weights' in v.name:\n",
    "        with tf.name_scope('gradients'):\n",
    "            tf_last_grad_norm = tf.sqrt(tf.reduce_mean(g**2))\n",
    "            tf_gradnorm_summary = tf.summary.scalar('grad_norm', tf_last_grad_norm)\n",
    "            break\n",
    "# Merge all summaries together\n",
    "performance_summaries = tf.summary.merge([tf_loss_summary,tf_accuracy_summary])"
   ]
  },
  {
   "cell_type": "code",
   "execution_count": 9,
   "metadata": {},
   "outputs": [
    {
     "name": "stderr",
     "output_type": "stream",
     "text": [
      "WARNING: Logging before flag parsing goes to stderr.\n",
      "W0729 20:09:40.560595 140120950695680 deprecation.py:323] From <ipython-input-9-5936551910d1>:25: read_data_sets (from tensorflow.contrib.learn.python.learn.datasets.mnist) is deprecated and will be removed in a future version.\n",
      "Instructions for updating:\n",
      "Please use alternatives such as official/mnist/dataset.py from tensorflow/models.\n",
      "W0729 20:09:40.562192 140120950695680 deprecation.py:323] From /home/bhootmali/anaconda3/envs/torchflow/lib/python3.6/site-packages/tensorflow/contrib/learn/python/learn/datasets/mnist.py:260: maybe_download (from tensorflow.contrib.learn.python.learn.datasets.base) is deprecated and will be removed in a future version.\n",
      "Instructions for updating:\n",
      "Please write your own downloading logic.\n",
      "W0729 20:09:40.563691 140120950695680 deprecation.py:323] From /home/bhootmali/anaconda3/envs/torchflow/lib/python3.6/site-packages/tensorflow/contrib/learn/python/learn/datasets/base.py:252: _internal_retry.<locals>.wrap.<locals>.wrapped_fn (from tensorflow.contrib.learn.python.learn.datasets.base) is deprecated and will be removed in a future version.\n",
      "Instructions for updating:\n",
      "Please use urllib or similar directly.\n",
      "W0729 20:09:40.855039 140120950695680 deprecation.py:323] From /home/bhootmali/anaconda3/envs/torchflow/lib/python3.6/site-packages/tensorflow/contrib/learn/python/learn/datasets/mnist.py:262: extract_images (from tensorflow.contrib.learn.python.learn.datasets.mnist) is deprecated and will be removed in a future version.\n",
      "Instructions for updating:\n",
      "Please use tf.data to implement this functionality.\n"
     ]
    },
    {
     "name": "stdout",
     "output_type": "stream",
     "text": [
      "Successfully downloaded train-images-idx3-ubyte.gz 9912422 bytes.\n",
      "Extracting MNIST_data/train-images-idx3-ubyte.gz\n"
     ]
    },
    {
     "name": "stderr",
     "output_type": "stream",
     "text": [
      "W0729 20:09:41.281283 140120950695680 deprecation.py:323] From /home/bhootmali/anaconda3/envs/torchflow/lib/python3.6/site-packages/tensorflow/contrib/learn/python/learn/datasets/mnist.py:267: extract_labels (from tensorflow.contrib.learn.python.learn.datasets.mnist) is deprecated and will be removed in a future version.\n",
      "Instructions for updating:\n",
      "Please use tf.data to implement this functionality.\n",
      "W0729 20:09:41.284698 140120950695680 deprecation.py:323] From /home/bhootmali/anaconda3/envs/torchflow/lib/python3.6/site-packages/tensorflow/contrib/learn/python/learn/datasets/mnist.py:110: dense_to_one_hot (from tensorflow.contrib.learn.python.learn.datasets.mnist) is deprecated and will be removed in a future version.\n",
      "Instructions for updating:\n",
      "Please use tf.one_hot on tensors.\n"
     ]
    },
    {
     "name": "stdout",
     "output_type": "stream",
     "text": [
      "Successfully downloaded train-labels-idx1-ubyte.gz 28881 bytes.\n",
      "Extracting MNIST_data/train-labels-idx1-ubyte.gz\n",
      "Successfully downloaded t10k-images-idx3-ubyte.gz 1648877 bytes.\n",
      "Extracting MNIST_data/t10k-images-idx3-ubyte.gz\n"
     ]
    },
    {
     "name": "stderr",
     "output_type": "stream",
     "text": [
      "W0729 20:09:41.653703 140120950695680 deprecation.py:323] From /home/bhootmali/anaconda3/envs/torchflow/lib/python3.6/site-packages/tensorflow/contrib/learn/python/learn/datasets/mnist.py:290: DataSet.__init__ (from tensorflow.contrib.learn.python.learn.datasets.mnist) is deprecated and will be removed in a future version.\n",
      "Instructions for updating:\n",
      "Please use alternatives such as official/mnist/dataset.py from tensorflow/models.\n"
     ]
    },
    {
     "name": "stdout",
     "output_type": "stream",
     "text": [
      "Successfully downloaded t10k-labels-idx1-ubyte.gz 4542 bytes.\n",
      "Extracting MNIST_data/t10k-labels-idx1-ubyte.gz\n",
      "Average loss in epoch 0: 2.30617\n",
      "\tAverage Valid Accuracy in epoch 0: 11.66000\n",
      "\tAverage Test Accuracy in epoch 0: 12.21000\n",
      "\n",
      "Average loss in epoch 1: 2.30336\n",
      "\tAverage Valid Accuracy in epoch 1: 13.60000\n",
      "\tAverage Test Accuracy in epoch 1: 14.01000\n",
      "\n",
      "Average loss in epoch 2: 2.30065\n",
      "\tAverage Valid Accuracy in epoch 2: 15.18000\n",
      "\tAverage Test Accuracy in epoch 2: 15.47000\n",
      "\n",
      "Average loss in epoch 3: 2.29794\n",
      "\tAverage Valid Accuracy in epoch 3: 16.70000\n",
      "\tAverage Test Accuracy in epoch 3: 17.46000\n",
      "\n",
      "Average loss in epoch 4: 2.29513\n",
      "\tAverage Valid Accuracy in epoch 4: 18.30000\n",
      "\tAverage Test Accuracy in epoch 4: 19.09000\n",
      "\n",
      "Average loss in epoch 5: 2.29215\n",
      "\tAverage Valid Accuracy in epoch 5: 19.48000\n",
      "\tAverage Test Accuracy in epoch 5: 20.74000\n",
      "\n",
      "Average loss in epoch 6: 2.28890\n",
      "\tAverage Valid Accuracy in epoch 6: 20.48000\n",
      "\tAverage Test Accuracy in epoch 6: 21.87000\n",
      "\n",
      "Average loss in epoch 7: 2.28526\n",
      "\tAverage Valid Accuracy in epoch 7: 21.16000\n",
      "\tAverage Test Accuracy in epoch 7: 22.61000\n",
      "\n",
      "Average loss in epoch 8: 2.28104\n",
      "\tAverage Valid Accuracy in epoch 8: 23.78000\n",
      "\tAverage Test Accuracy in epoch 8: 25.48000\n",
      "\n",
      "Average loss in epoch 9: 2.27599\n",
      "\tAverage Valid Accuracy in epoch 9: 30.34000\n",
      "\tAverage Test Accuracy in epoch 9: 32.31000\n",
      "\n",
      "Average loss in epoch 10: 2.26975\n",
      "\tAverage Valid Accuracy in epoch 10: 32.48000\n",
      "\tAverage Test Accuracy in epoch 10: 34.17000\n",
      "\n",
      "Average loss in epoch 11: 2.26176\n",
      "\tAverage Valid Accuracy in epoch 11: 33.08000\n",
      "\tAverage Test Accuracy in epoch 11: 35.70000\n",
      "\n",
      "Average loss in epoch 12: 2.25123\n",
      "\tAverage Valid Accuracy in epoch 12: 33.52000\n",
      "\tAverage Test Accuracy in epoch 12: 36.01000\n",
      "\n",
      "Average loss in epoch 13: 2.23689\n",
      "\tAverage Valid Accuracy in epoch 13: 33.88000\n",
      "\tAverage Test Accuracy in epoch 13: 36.25000\n",
      "\n",
      "Average loss in epoch 14: 2.21667\n",
      "\tAverage Valid Accuracy in epoch 14: 34.76000\n",
      "\tAverage Test Accuracy in epoch 14: 37.30000\n",
      "\n",
      "Average loss in epoch 15: 2.18715\n",
      "\tAverage Valid Accuracy in epoch 15: 35.06000\n",
      "\tAverage Test Accuracy in epoch 15: 37.08000\n",
      "\n",
      "Average loss in epoch 16: 2.14290\n",
      "\tAverage Valid Accuracy in epoch 16: 35.50000\n",
      "\tAverage Test Accuracy in epoch 16: 36.74000\n",
      "\n",
      "Average loss in epoch 17: 2.07743\n",
      "\tAverage Valid Accuracy in epoch 17: 36.44000\n",
      "\tAverage Test Accuracy in epoch 17: 37.34000\n",
      "\n",
      "Average loss in epoch 18: 1.98678\n",
      "\tAverage Valid Accuracy in epoch 18: 40.22000\n",
      "\tAverage Test Accuracy in epoch 18: 40.50000\n",
      "\n",
      "Average loss in epoch 19: 1.86670\n",
      "\tAverage Valid Accuracy in epoch 19: 47.66000\n",
      "\tAverage Test Accuracy in epoch 19: 47.20000\n",
      "\n",
      "Average loss in epoch 20: 1.71296\n",
      "\tAverage Valid Accuracy in epoch 20: 54.68000\n",
      "\tAverage Test Accuracy in epoch 20: 54.31000\n",
      "\n",
      "Average loss in epoch 21: 1.53072\n",
      "\tAverage Valid Accuracy in epoch 21: 61.28000\n",
      "\tAverage Test Accuracy in epoch 21: 60.08000\n",
      "\n",
      "Average loss in epoch 22: 1.33752\n",
      "\tAverage Valid Accuracy in epoch 22: 66.34000\n",
      "\tAverage Test Accuracy in epoch 22: 66.14000\n",
      "\n",
      "Average loss in epoch 23: 1.15496\n",
      "\tAverage Valid Accuracy in epoch 23: 68.94000\n",
      "\tAverage Test Accuracy in epoch 23: 69.04000\n",
      "\n",
      "Average loss in epoch 24: 1.00378\n",
      "\tAverage Valid Accuracy in epoch 24: 72.24000\n",
      "\tAverage Test Accuracy in epoch 24: 72.27000\n",
      "\n"
     ]
    }
   ],
   "source": [
    "image_size = 28\n",
    "n_channels = 1\n",
    "n_classes = 10\n",
    "n_train = 55000\n",
    "n_valid = 5000\n",
    "n_test = 10000\n",
    "n_epochs = 25\n",
    "\n",
    "config = tf.ConfigProto(allow_soft_placement=True)\n",
    "config.gpu_options.allow_growth = True\n",
    "config.gpu_options.per_process_gpu_memory_fraction = 0.9 # making sure Tensorflow doesn't overflow the GPU\n",
    "\n",
    "session = tf.InteractiveSession(config=config)\n",
    "\n",
    "if not os.path.exists('summaries'):\n",
    "    os.mkdir('summaries')\n",
    "if not os.path.exists(os.path.join('summaries','first')):\n",
    "    os.mkdir(os.path.join('summaries','first'))\n",
    "\n",
    "summ_writer = tf.summary.FileWriter(os.path.join('summaries','first'), session.graph)\n",
    "\n",
    "tf.global_variables_initializer().run()\n",
    "\n",
    "accuracy_per_epoch = []\n",
    "mnist_data = input_data.read_data_sets('MNIST_data', one_hot=True)\n",
    "\n",
    "\n",
    "for epoch in range(n_epochs):\n",
    "    loss_per_epoch = []\n",
    "    for i in range(n_train//batch_size):\n",
    "\n",
    "        # =================================== Training for one step ========================================\n",
    "        batch = mnist_data.train.next_batch(batch_size)    # Get one batch of training data\n",
    "        if i == 0:\n",
    "            # Only for the first epoch, get the summary data\n",
    "            # Otherwise, it can clutter the visualization\n",
    "            l,_,gn_summ = session.run([tf_loss,\n",
    "                                       tf_loss_minimize,\n",
    "                                       tf_gradnorm_summary],\n",
    "                                      feed_dict={train_inputs: batch[0].reshape(batch_size,image_size*image_size),\n",
    "                                                 train_labels: batch[1],\n",
    "                                                tf_learning_rate: 0.0001})\n",
    "            summ_writer.add_summary(gn_summ, epoch)\n",
    "        else:\n",
    "            # Optimize with training data\n",
    "            l,_ = session.run([tf_loss,\n",
    "                               tf_loss_minimize],\n",
    "                              feed_dict={train_inputs: batch[0].reshape(batch_size,image_size*image_size),\n",
    "                                         train_labels: batch[1],\n",
    "                                         tf_learning_rate: 0.0001})\n",
    "        loss_per_epoch.append(l)\n",
    "\n",
    "    print('Average loss in epoch %d: %.5f'%(epoch,np.mean(loss_per_epoch)))    \n",
    "    avg_loss = np.mean(loss_per_epoch)\n",
    "\n",
    "    # ====================== Calculate the Validation Accuracy ==========================\n",
    "    valid_accuracy_per_epoch = []\n",
    "    for i in range(n_valid//batch_size):\n",
    "        valid_images,valid_labels = mnist_data.validation.next_batch(batch_size)\n",
    "        valid_batch_predictions = session.run(\n",
    "            tf_predictions,feed_dict={train_inputs: valid_images.reshape(batch_size,image_size*image_size)})\n",
    "        valid_accuracy_per_epoch.append(accuracy(valid_batch_predictions,valid_labels))\n",
    "\n",
    "    mean_v_acc = np.mean(valid_accuracy_per_epoch)\n",
    "    print('\\tAverage Valid Accuracy in epoch %d: %.5f'%(epoch,np.mean(valid_accuracy_per_epoch)))\n",
    "\n",
    "    # ===================== Calculate the Test Accuracy ===============================\n",
    "    accuracy_per_epoch = []\n",
    "    for i in range(n_test//batch_size):\n",
    "        test_images, test_labels = mnist_data.test.next_batch(batch_size)\n",
    "        test_batch_predictions = session.run(\n",
    "            tf_predictions,feed_dict={train_inputs: test_images.reshape(batch_size,image_size*image_size)}\n",
    "        )\n",
    "        accuracy_per_epoch.append(accuracy(test_batch_predictions,test_labels))\n",
    "\n",
    "    print('\\tAverage Test Accuracy in epoch %d: %.5f\\n'%(epoch,np.mean(accuracy_per_epoch)))\n",
    "    avg_test_accuracy = np.mean(accuracy_per_epoch)\n",
    "\n",
    "    # Execute the summaries defined above\n",
    "    summ = session.run(performance_summaries, feed_dict={tf_loss_ph:avg_loss, tf_accuracy_ph:avg_test_accuracy})\n",
    "\n",
    "    # Write the obtained summaries to the file, so it can be displayed in the TensorBoard\n",
    "    summ_writer.add_summary(summ, epoch)\n",
    "\n",
    "session.close()"
   ]
  },
  {
   "cell_type": "code",
   "execution_count": 11,
   "metadata": {},
   "outputs": [
    {
     "data": {
      "text/plain": [
       "Reusing TensorBoard on port 6008 (pid 5307), started 0:00:11 ago. (Use '!kill 5307' to kill it.)"
      ]
     },
     "metadata": {},
     "output_type": "display_data"
    },
    {
     "data": {
      "text/html": [
       "\n",
       "        <iframe\n",
       "            width=\"100%\"\n",
       "            height=\"800\"\n",
       "            src=\"http://localhost:6008\"\n",
       "            frameborder=\"0\"\n",
       "            allowfullscreen\n",
       "        ></iframe>\n",
       "        "
      ],
      "text/plain": [
       "<IPython.lib.display.IFrame at 0x7f6ff6dd7e80>"
      ]
     },
     "metadata": {},
     "output_type": "display_data"
    }
   ],
   "source": [
    "%tensorboard --logdir summaries"
   ]
  },
  {
   "cell_type": "code",
   "execution_count": 13,
   "metadata": {},
   "outputs": [
    {
     "name": "stdout",
     "output_type": "stream",
     "text": [
      "Known TensorBoard instances:\n",
      "  - port 6006: logdir ./runs (started 1:30:16 ago; pid 32172)\n",
      "  - port 6007: logdir logs (started 0:25:10 ago; pid 4553)\n",
      "  - port 6008: logdir summaries (started 0:05:55 ago; pid 5307)\n"
     ]
    }
   ],
   "source": [
    "from tensorboard import notebook\n",
    "notebook.list()"
   ]
  },
  {
   "cell_type": "code",
   "execution_count": null,
   "metadata": {},
   "outputs": [],
   "source": []
  }
 ],
 "metadata": {
  "kernelspec": {
   "display_name": "Python 3",
   "language": "python",
   "name": "python3"
  },
  "language_info": {
   "codemirror_mode": {
    "name": "ipython",
    "version": 3
   },
   "file_extension": ".py",
   "mimetype": "text/x-python",
   "name": "python",
   "nbconvert_exporter": "python",
   "pygments_lexer": "ipython3",
   "version": "3.6.8"
  }
 },
 "nbformat": 4,
 "nbformat_minor": 4
}
